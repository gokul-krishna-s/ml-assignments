{
 "cells": [
  {
   "attachments": {},
   "cell_type": "markdown",
   "id": "5542f5dd",
   "metadata": {},
   "source": [
    "Q1. What does one mean by the term \"machine learning\" ?\n",
    "\n",
    "    Machine Learning is a branch of artificial intelligence based on the idea that systems can learn from data, identify patterns and make decisions with minimal human intervention."
   ]
  },
  {
   "attachments": {},
   "cell_type": "markdown",
   "id": "191d54fe",
   "metadata": {},
   "source": [
    "Q2. Can you think of 4 distinct types of issues where it shines ?\n",
    "\n",
    "    Predictive modeling: Machine learning algorithms can be used to analyze historical data and make predictions about future events. This is useful in a wide range of industries, such as finance, healthcare, and marketing.\n",
    "\n",
    "    Image and speech recognition: Machine learning algorithms can be used to analyze images and speech, and identify objects, people, and spoken words. This is useful in applications such as self-driving cars and voice-controlled personal assistants.\n",
    "\n",
    "    Natural Language Processing (NLP): Machine learning can be used to understand and process human language, which is useful in applications such as language translation, text summarization, and sentiment analysis.\n",
    "\n",
    "    Anomaly detection: Machine learning can be used to identify unusual or abnormal patterns in data, which is useful in applications such as fraud detection and monitoring of critical systems."
   ]
  },
  {
   "attachments": {},
   "cell_type": "markdown",
   "id": "2be941b1",
   "metadata": {},
   "source": [
    "Q3.What is a labeled training set, and how does it work ?\n",
    "\n",
    "    You split up the data containing known response variable values into two pieces. The training set is used to train the algorithm, and then you use the trained model on the test set to predict the response variable values that are already known."
   ]
  },
  {
   "attachments": {},
   "cell_type": "markdown",
   "id": "af127751",
   "metadata": {},
   "source": [
    "Q4.What are the two most important tasks that are supervised ?\n",
    "\n",
    "    The two most common supervised learning tasks are **Regression** and **Classification**."
   ]
  },
  {
   "attachments": {},
   "cell_type": "markdown",
   "id": "18091371",
   "metadata": {},
   "source": [
    "Q5.Can you think of four examples of unsupervised tasks ?\n",
    "\n",
    "    Four common Unsupervised Tasks included **Clustering**, **Visualization**, **Dimensionality Reduction**, and **Association Rule Learning**."
   ]
  },
  {
   "attachments": {},
   "cell_type": "markdown",
   "id": "4253e5da",
   "metadata": {},
   "source": [
    "Q6. State the machine learning model that would be best to make a robot walk through various unfamiliar terrains ?\n",
    "\n",
    "    A combination of deep learning and reinforcement learning, along with a good understanding of the robot's dynamics, is likely the best approach for making a robot walk through various unfamiliar terrains."
   ]
  },
  {
   "attachments": {},
   "cell_type": "markdown",
   "id": "ad8c6cd2",
   "metadata": {},
   "source": [
    "Q7.Which algorithm will you use to divide your customers into different groups ?\n",
    "\n",
    "    The Best Algorithm to Segment Customers into different groups is either **Supervised Learning** (if the groups have known labels) or **Unsupervised Learning** (if there are no group labels)."
   ]
  },
  {
   "attachments": {},
   "cell_type": "markdown",
   "id": "9105b2d5",
   "metadata": {},
   "source": [
    "Q8.Will you consider the problem of spam detection to be a supervised or unsupervised learning problem ?\n",
    "\n",
    "    Spam detection is a Supervised Machine Learning problem because the labels are known (spam or no spam)."
   ]
  },
  {
   "attachments": {},
   "cell_type": "markdown",
   "id": "0c085053",
   "metadata": {},
   "source": [
    "Q9.What is the concept of an online learning system ?\n",
    "\n",
    "    Online learning system is a learning system in which the machine learns continously, as data is given in small streams continuously."
   ]
  },
  {
   "attachments": {},
   "cell_type": "markdown",
   "id": "90fdf632",
   "metadata": {},
   "source": [
    "Q10. What is out-of-core learning, and how does it differ from core learning ?\n",
    "\n",
    "    Out-of-core learning system is a system that can handle data that cannot fit into your computer memory. It uses online learning system to feed data in small bits."
   ]
  },
  {
   "attachments": {},
   "cell_type": "markdown",
   "id": "25b1ebf0",
   "metadata": {},
   "source": [
    "Q11. What kind of learning algorithm makes predictions using a similarity measure ?\n",
    "\n",
    "    A learning algorithm that makes predictions using a similarity measure is known as instance-based or memory-based learning algorithm. These algorithms use a similarity measure to compare new examples to the examples in the training set, and make predictions based on the most similar examples.\n",
    "    eg: Euclidean distance"
   ]
  },
  {
   "attachments": {},
   "cell_type": "markdown",
   "id": "3311e6c7",
   "metadata": {},
   "source": [
    "Q12. What's the difference between a model parameter and a hyperparameter in a learning algorithm ?\n",
    "\n",
    "    Model parameter determines how a model will predict given a new instance. Model usually has more than one parameter (i.e. slope of a linear model). Hyperparameter is a parameter for the learning algorithm, not of a model."
   ]
  },
  {
   "attachments": {},
   "cell_type": "markdown",
   "id": "1574e21a",
   "metadata": {},
   "source": [
    "Q13. What are the criteria that model-based learning algorithms look for? What is the most popular method they use to achieve success? What method do they use to make predictions ?\n",
    "\n",
    "    Model based learning algorithm search for the optimal value of parameters in a model that will give the best results for the new instances. We often use a cost function or similar to determine what the parameter value has to be in order to minimize the function. The model makes prediction by using the value of the new instance and the parameters in its function."
   ]
  },
  {
   "attachments": {},
   "cell_type": "markdown",
   "id": "42e921cd",
   "metadata": {},
   "source": [
    "Q14. Can you name four of the most important Machine Learning challenges ?\n",
    "\n",
    "    Four main challenges in Machine Learning include the following:\n",
    "    1. Overfitting the Data (using a model too complicated)\n",
    "    2. Underfitting the data (using a simple model)\n",
    "    3. Lacking in Data\n",
    "    4. Non Representative Data."
   ]
  },
  {
   "attachments": {},
   "cell_type": "markdown",
   "id": "2e45ca05",
   "metadata": {},
   "source": [
    "Q15. What happens if the model performs well on the training data but fails to generalize the results to new situations? Can you think of three different options ?\n",
    "\n",
    "    If the model performs poorly to new instances, then it has overfitted on the training data. To solve this, we can do any of the following three: \n",
    "    - Get more data\n",
    "    - Implement a simpler model\n",
    "    - Eliminate outliers or noise from the existing data set."
   ]
  },
  {
   "attachments": {},
   "cell_type": "markdown",
   "id": "cb05d8b8",
   "metadata": {},
   "source": [
    "Q16. What exactly is a test set, and why would you need one ?\n",
    "\n",
    "    Test set is used to evaluate your model (fit using training data) to see how it performs.Test set is necessary to determine how good (or bad) a model performs."
   ]
  },
  {
   "attachments": {},
   "cell_type": "markdown",
   "id": "abf60183",
   "metadata": {},
   "source": [
    "Q17. What is a validation set's purpose ?\n",
    "\n",
    "    A validation set is a set of data that is used to evaluate the performance of a machine learning model during the model selection and hyperparameter tuning process. The purpose of a validation set is to provide an unbiased estimate of the model's performance on unseen data."
   ]
  },
  {
   "attachments": {},
   "cell_type": "markdown",
   "id": "31ed593a",
   "metadata": {},
   "source": [
    "Q18. What precisely is the train-dev kit, when will you need it, how do you put it to use ?\n",
    "\n",
    "    A train-dev kit, also known as development set, is a set of data that is used during the model development process to evaluate the model's performance and tune its hyperparameters. It is similar to a validation set, but it is used in addition to the validation set, to perform extra evaluations during the model development."
   ]
  },
  {
   "attachments": {},
   "cell_type": "markdown",
   "id": "2148fdcb",
   "metadata": {},
   "source": [
    "Q19. What could go wrong if you use the test set to tune hyperparameters ?\n",
    "\n",
    "    If you use the test set to tune hyperparameters, you risk overfitting the model to the test set, which can lead to poor performance on new, unseen data. When you use the test set to tune the hyperparameters, you are essentially using information from the test set to inform the model's parameters, which is not the intended purpose of the test set. This means that the model will have seen the test set examples, and this could lead to the model adapting itself too much to the test set, and not generalizing well to new unseen examples."
   ]
  }
 ],
 "metadata": {
  "kernelspec": {
   "display_name": "Python 3.9.7 ('base')",
   "language": "python",
   "name": "python3"
  },
  "language_info": {
   "codemirror_mode": {
    "name": "ipython",
    "version": 3
   },
   "file_extension": ".py",
   "mimetype": "text/x-python",
   "name": "python",
   "nbconvert_exporter": "python",
   "pygments_lexer": "ipython3",
   "version": "3.9.7"
  },
  "vscode": {
   "interpreter": {
    "hash": "ad2bdc8ecc057115af97d19610ffacc2b4e99fae6737bb82f5d7fb13d2f2c186"
   }
  }
 },
 "nbformat": 4,
 "nbformat_minor": 5
}
